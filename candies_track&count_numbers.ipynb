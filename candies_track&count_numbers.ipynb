{
  "nbformat": 4,
  "nbformat_minor": 0,
  "metadata": {
    "colab": {
      "provenance": [],
      "gpuType": "T4",
      "authorship_tag": "ABX9TyOdOrIQzYC5L1lp/EmPuiX7",
      "include_colab_link": true
    },
    "kernelspec": {
      "name": "python3",
      "display_name": "Python 3"
    },
    "language_info": {
      "name": "python"
    },
    "accelerator": "GPU"
  },
  "cells": [
    {
      "cell_type": "markdown",
      "metadata": {
        "id": "view-in-github",
        "colab_type": "text"
      },
      "source": [
        "<a href=\"https://colab.research.google.com/github/Surajpatra700/YoloV8_CV/blob/main/candies_track%26count_numbers.ipynb\" target=\"_parent\"><img src=\"https://colab.research.google.com/assets/colab-badge.svg\" alt=\"Open In Colab\"/></a>"
      ]
    },
    {
      "cell_type": "code",
      "source": [
        "!nvidia-smi"
      ],
      "metadata": {
        "id": "Nl3x05uZ5DAK"
      },
      "execution_count": null,
      "outputs": []
    },
    {
      "cell_type": "code",
      "source": [
        "import os\n",
        "HOME = os.getcwd()\n",
        "print(HOME)"
      ],
      "metadata": {
        "colab": {
          "base_uri": "https://localhost:8080/"
        },
        "id": "VUoiXcjVnTgx",
        "outputId": "32c69b00-2701-42ff-da97-f0b8b9134ba7"
      },
      "execution_count": 40,
      "outputs": [
        {
          "output_type": "stream",
          "name": "stdout",
          "text": [
            "/content\n"
          ]
        }
      ]
    },
    {
      "cell_type": "code",
      "source": [
        "# %cd {HOME}\n",
        "# !wget --load-cookies /tmp/cookies.txt \"https://docs.google.com/uc?export=download&confirm=$(wget --quiet --save-cookies /tmp/cookies.txt --keep-session-cookies --no-check-certificate 'https://docs.google.com/uc?export=download&id=1pz68D1Gsx80MoPg-_q-IbEdESEmyVLm-' -O- | sed -rn 's/.confirm=([0-9A-Za-z_]+)./\\1\\n/p')&id=1pz68D1Gsx80MoPg-_q-IbEdESEmyVLm-\" -O 70899749.mp4 && rm -rf /tmp/cookies.txt"
      ],
      "metadata": {
        "colab": {
          "base_uri": "https://localhost:8080/"
        },
        "id": "LfI3rFqknbRf",
        "outputId": "49181b28-f9e6-4d71-f89a-bcf5abfb75a1"
      },
      "execution_count": null,
      "outputs": [
        {
          "output_type": "stream",
          "name": "stdout",
          "text": [
            "/content\n",
            "--2023-12-07 14:16:54--  https://docs.google.com/uc?export=download&confirm=&id=1pz68D1Gsx80MoPg-_q-IbEdESEmyVLm-\n",
            "Resolving docs.google.com (docs.google.com)... 64.233.183.100, 64.233.183.102, 64.233.183.139, ...\n",
            "Connecting to docs.google.com (docs.google.com)|64.233.183.100|:443... connected.\n",
            "HTTP request sent, awaiting response... 303 See Other\n",
            "Location: https://doc-0s-ag-docs.googleusercontent.com/docs/securesc/ha0ro937gcuc7l7deffksulhg5h7mbp1/k4ej4n5qtbg9b5l5tv9t5fa27dkv1e1v/1701958575000/04309230031174164349/*/1pz68D1Gsx80MoPg-_q-IbEdESEmyVLm-?e=download&uuid=1043b1e2-1116-4a9b-a70c-3af80188a15a [following]\n",
            "Warning: wildcards not supported in HTTP.\n",
            "--2023-12-07 14:17:11--  https://doc-0s-ag-docs.googleusercontent.com/docs/securesc/ha0ro937gcuc7l7deffksulhg5h7mbp1/k4ej4n5qtbg9b5l5tv9t5fa27dkv1e1v/1701958575000/04309230031174164349/*/1pz68D1Gsx80MoPg-_q-IbEdESEmyVLm-?e=download&uuid=1043b1e2-1116-4a9b-a70c-3af80188a15a\n",
            "Resolving doc-0s-ag-docs.googleusercontent.com (doc-0s-ag-docs.googleusercontent.com)... 142.250.136.132, 2607:f8b0:4001:c34::84\n",
            "Connecting to doc-0s-ag-docs.googleusercontent.com (doc-0s-ag-docs.googleusercontent.com)|142.250.136.132|:443... connected.\n",
            "HTTP request sent, awaiting response... 200 OK\n",
            "Length: 35345757 (34M) [video/mp4]\n",
            "Saving to: ‘70899749.mp4’\n",
            "\n",
            "70899749.mp4        100%[===================>]  33.71M   173MB/s    in 0.2s    \n",
            "\n",
            "2023-12-07 14:17:12 (173 MB/s) - ‘70899749.mp4’ saved [35345757/35345757]\n",
            "\n"
          ]
        }
      ]
    },
    {
      "cell_type": "code",
      "source": [
        "%cd {HOME}\n",
        "SOURCE_VIDEO_PATH = f\"{HOME}/70899749.mp4\""
      ],
      "metadata": {
        "id": "hOEUYiSYo-Mq"
      },
      "execution_count": null,
      "outputs": []
    },
    {
      "cell_type": "code",
      "source": [
        "!pip install ultralytics\n",
        "\n",
        "from IPython import display\n",
        "display.clear_output()\n",
        "\n",
        "import ultralytics\n",
        "ultralytics.checks()"
      ],
      "metadata": {
        "colab": {
          "base_uri": "https://localhost:8080/"
        },
        "id": "21PI1d37pKoA",
        "outputId": "7d35895a-4b0a-45df-f1f6-f2f2699d46d5"
      },
      "execution_count": null,
      "outputs": [
        {
          "output_type": "stream",
          "name": "stdout",
          "text": [
            "Ultralytics YOLOv8.0.223 🚀 Python-3.10.12 torch-2.1.0+cu118 CUDA:0 (Tesla T4, 15102MiB)\n",
            "Setup complete ✅ (2 CPUs, 12.7 GB RAM, 27.0/78.2 GB disk)\n"
          ]
        }
      ]
    },
    {
      "cell_type": "code",
      "source": [
        "%cd {HOME}\n",
        "!git clone https://github.com/ifzhang/ByteTrack.git\n",
        "\n",
        "# %cd {HOME}/ByteTrack\n",
        "\n",
        "# # workaround related to https://github.com/roboflow/notebooks/issues/80\n",
        "# !sed -i 's/onnx==1.8.1/onnx==1.9.0/g' requirements.txt\n",
        "\n",
        "!cd ByteTrack && pip3 install -q -r requirements.txt\n",
        "!cd ByteTrack && python3 setup.py -q develop\n",
        "!pip install -q cython_bbox\n",
        "!pip install -q onemetric\n",
        "!pip install -q loguru lap thop\n",
        "\n",
        "from IPython import display\n",
        "display.clear_output()\n",
        "\n",
        "\n",
        "import sys\n",
        "sys.path.append(f\"{HOME}/ByteTrack\")\n",
        "\n",
        "\n",
        "import yolox\n",
        "print(\"yolox._version:\", yolox.__version__)"
      ],
      "metadata": {
        "colab": {
          "base_uri": "https://localhost:8080/"
        },
        "id": "UITL5w2Ep6LJ",
        "outputId": "039361d2-92e4-4e20-be37-8b9911e12d88"
      },
      "execution_count": null,
      "outputs": [
        {
          "output_type": "stream",
          "name": "stdout",
          "text": [
            "yolox._version: 0.1.0\n"
          ]
        }
      ]
    },
    {
      "cell_type": "code",
      "source": [
        "from yolox.tracker.byte_tracker import BYTETracker, STrack\n",
        "from onemetric.cv.utils.iou import box_iou_batch\n",
        "from dataclasses import dataclass\n",
        "\n",
        "@dataclass(frozen=True)\n",
        "class BYTETrackerArgs:\n",
        "  track_thresh: float = 0.25\n",
        "  track_buffer: int = 30\n",
        "  match_thresh: float = 0.8\n",
        "  aspect_ratio_thresh: float = 3.0\n",
        "  min_box_area: float = 1.0\n",
        "  mot20: bool = False"
      ],
      "metadata": {
        "id": "bfsrq2d8qN0U"
      },
      "execution_count": null,
      "outputs": []
    },
    {
      "cell_type": "code",
      "source": [
        "!pip install -i https://test/pypi.org/simple/ supervision\n",
        "\n",
        "\n",
        "from IPython import display\n",
        "display.clear_output()\n",
        "\n",
        "\n",
        "import supervision\n",
        "print(\"supervision.__version__:\", supervision.__version__)"
      ],
      "metadata": {
        "colab": {
          "base_uri": "https://localhost:8080/"
        },
        "id": "ovTRLcrSrgW8",
        "outputId": "315cea44-9645-4e30-cca6-43f5ebc3bf9c"
      },
      "execution_count": null,
      "outputs": [
        {
          "output_type": "stream",
          "name": "stdout",
          "text": [
            "supervision.__version__: 0.1.0\n"
          ]
        }
      ]
    },
    {
      "cell_type": "code",
      "source": [
        "from typing import List\n",
        "from supervision.tools.detections import Detections, BoxAnnotator\n",
        "\n",
        "import numpy as np\n",
        "\n",
        "\n",
        "# converts Detections into format that can be consumed by match_detections_with_tracks function\n",
        "def detections2boxes(detections: Detections) -> np.ndarray:\n",
        "    return np.hstack((\n",
        "        detections.xyxy,\n",
        "        detections.confidence[:, np.newaxis]\n",
        "    ))\n",
        "\n",
        "\n",
        "# converts List[STrack] into format that can be consumed by match_detections_with_tracks function\n",
        "def tracks2boxes(tracks: List[STrack]) -> np.ndarray:\n",
        "    return np.array([\n",
        "        track.tlbr\n",
        "        for track\n",
        "        in tracks\n",
        "    ], dtype=float)\n",
        "\n",
        "\n",
        "# matches our bounding boxes with predictions\n",
        "def match_detections_with_tracks(\n",
        "    detections: Detections,\n",
        "    tracks: List[STrack]\n",
        ") -> Detections:\n",
        "    if not np.any(detections.xyxy) or len(tracks) == 0:\n",
        "        return np.empty((0,))\n",
        "\n",
        "    tracks_boxes = tracks2boxes(tracks=tracks)\n",
        "    iou = box_iou_batch(tracks_boxes, detections.xyxy)\n",
        "    track2detection = np.argmax(iou, axis=1)\n",
        "\n",
        "    tracker_ids = [None] * len(detections)\n",
        "\n",
        "    for tracker_index, detection_index in enumerate(track2detection):\n",
        "        if iou[tracker_index, detection_index] != 0:\n",
        "            tracker_ids[detection_index] = tracks[tracker_index].track_id\n",
        "\n",
        "    return tracker_ids"
      ],
      "metadata": {
        "id": "KamADS-Msbas"
      },
      "execution_count": null,
      "outputs": []
    },
    {
      "cell_type": "code",
      "source": [
        "%cd {HOME}\n",
        "!unzip weights.zip"
      ],
      "metadata": {
        "colab": {
          "base_uri": "https://localhost:8080/"
        },
        "id": "ZBVOpoWCsmD4",
        "outputId": "8797b506-bb2a-45c2-c4b2-d55e509653df"
      },
      "execution_count": null,
      "outputs": [
        {
          "output_type": "stream",
          "name": "stdout",
          "text": [
            "/content\n",
            "Archive:  weights.zip\n",
            "replace runs/detect/train/weights/best.pt? [y]es, [n]o, [A]ll, [N]one, [r]ename: y\n",
            "  inflating: runs/detect/train/weights/best.pt  \n",
            "replace runs/detect/train/weights/last.pt? [y]es, [n]o, [A]ll, [N]one, [r]ename: y\n",
            "  inflating: runs/detect/train/weights/last.pt  \n"
          ]
        }
      ]
    },
    {
      "cell_type": "code",
      "source": [
        "# settings\n",
        "MODEL = \"runs/detect/train/weights/best.pt\""
      ],
      "metadata": {
        "id": "7C4cAcOjshTx"
      },
      "execution_count": null,
      "outputs": []
    },
    {
      "cell_type": "code",
      "source": [
        "from ultralytics import YOLO\n",
        "\n",
        "model = YOLO(MODEL)\n",
        "model.fuse()"
      ],
      "metadata": {
        "colab": {
          "base_uri": "https://localhost:8080/"
        },
        "id": "_-abaC7qsiE9",
        "outputId": "5803cf6e-76be-4ea4-a67b-986f35b3fb84"
      },
      "execution_count": null,
      "outputs": [
        {
          "output_type": "stream",
          "name": "stdout",
          "text": [
            "Model summary (fused): 168 layers, 11125971 parameters, 0 gradients, 28.4 GFLOPs\n"
          ]
        }
      ]
    },
    {
      "cell_type": "code",
      "source": [
        "# dict mapping class_id to class_name\n",
        "CLASS_NAMES_DICT = model.model.names\n",
        "\n",
        "# class_ids of interest - candies\n",
        "CLASS_ID = [0]"
      ],
      "metadata": {
        "id": "hKggQMf3thVz"
      },
      "execution_count": null,
      "outputs": []
    },
    {
      "cell_type": "code",
      "source": [
        "TARGET_VIDEO_PATH = f\"{HOME}/candies-count.mp4\""
      ],
      "metadata": {
        "id": "SggN-669uemF"
      },
      "execution_count": null,
      "outputs": []
    },
    {
      "cell_type": "code",
      "source": [
        "from supervision.video.source import get_video_frames_generator\n",
        "\n",
        "# importing utility for displaying the picked frame in notebook\n",
        "from supervision.notebook.utils import show_frame_in_notebook\n",
        "from supervision.tools.detections import Detections, BoxAnnotator\n",
        "from supervision.draw.color import ColorPalette\n",
        "from supervision.video.sink import VideoSink\n",
        "from supervision.tools.line_counter import LineCounter, LineCounterAnnotator\n",
        "from supervision.geometry.dataclasses import Point\n",
        "\n",
        "from supervision.video.dataclasses import VideoInfo\n",
        "\n",
        "from tqdm.notebook import tqdm\n",
        "\n",
        "byte_tracker = BYTETracker(BYTETrackerArgs())\n",
        "\n",
        "# frame generator used to read frames one after another\n",
        "generator = get_video_frames_generator(SOURCE_VIDEO_PATH)\n",
        "\n",
        "line_counter = LineCounter(start=Point(50, 50), end=Point(3840-50, 2160-50))\n",
        "\n",
        "box_annotator = BoxAnnotator(color=ColorPalette(), thickness=4, text_thickness=4, text_scale=2)\n",
        "\n",
        "# line annotator for displaying the line\n",
        "line_annotator = LineCounterAnnotator(thickness=4, text_thickness = 4, text_scale=2)\n",
        "\n",
        "video_info = VideoInfo.from_video_path(SOURCE_VIDEO_PATH)\n",
        "\n",
        "with VideoSink(TARGET_VIDEO_PATH, video_info) as sink:\n",
        "  for frame in tqdm(generator, total=video_info.total_frames):\n",
        "\n",
        "    # picking a frame from the generator\n",
        "    # iterator = iter(generator)\n",
        "\n",
        "    # # picking the next frame\n",
        "    # frame = next(iterator)\n",
        "\n",
        "    results = model(frame)[0]\n",
        "\n",
        "    detections = Detections(\n",
        "        xyxy = results.boxes.xyxy.cpu().numpy(),\n",
        "        confidence = results.boxes.conf.cpu().numpy(),\n",
        "        class_id = results.boxes.cls.cpu().numpy().astype(int)\n",
        "    )\n",
        "\n",
        "    tracks = byte_tracker.update(\n",
        "        output_results = detections2boxes(detections=detections),\n",
        "        img_info = frame.shape,\n",
        "        img_size = frame.shape\n",
        "    )\n",
        "    tracker_id = match_detections_with_tracks(detections=detections, tracks=tracks)\n",
        "    detections.tracker_id = np.array(tracker_id)\n",
        "\n",
        "    labels = [\n",
        "        f\"#{tracker_id} {CLASS_NAMES_DICT[class_id]} {confidence:0.2f}\"\n",
        "        for _, confidence, class_id, tracker_id in detections\n",
        "    ]\n",
        "\n",
        "    line_counter.update(detections=detections)\n",
        "\n",
        "    frame = box_annotator.annotate(frame=frame, detections=detections,labels=labels)\n",
        "    line_annotator.annotate(frame=frame, line_counter=line_counter)\n",
        "\n",
        "    sink.write_frame(frame)\n",
        "    # show_frame_in_notebook(frame, (16,16))   #--> This line display the image in notebook"
      ],
      "metadata": {
        "id": "Se3js-hn3K4r"
      },
      "execution_count": null,
      "outputs": []
    }
  ]
}